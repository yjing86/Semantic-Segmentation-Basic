{
 "cells": [
  {
   "cell_type": "code",
   "execution_count": 1,
   "metadata": {},
   "outputs": [],
   "source": [
    "import os\n",
    "import gc\n",
    "import cv2\n",
    "import random\n",
    "import numpy as np\n",
    "\n",
    "from libtiff import TIFF\n",
    "from tqdm import tqdm"
   ]
  },
  {
   "cell_type": "markdown",
   "metadata": {},
   "source": [
    "# 查看其中图片\n",
    "原图的通道顺序为  NIR R G B"
   ]
  },
  {
   "cell_type": "code",
   "execution_count": 9,
   "metadata": {},
   "outputs": [
    {
     "name": "stdout",
     "output_type": "stream",
     "text": [
      "(6800, 7200, 4)\n"
     ]
    }
   ],
   "source": [
    "tif = TIFF.open('../data/all/GF2_PMS1__20150212_L1A0000647768-MSS1 (2).tif', mode = 'r')\n",
    "img = tif.read_image()\n",
    "print(img.shape)"
   ]
  },
  {
   "cell_type": "markdown",
   "metadata": {},
   "source": [
    "# 把原图与label切分为4块"
   ]
  },
  {
   "cell_type": "code",
   "execution_count": 2,
   "metadata": {},
   "outputs": [
    {
     "name": "stdout",
     "output_type": "stream",
     "text": [
      "['GF2_PMS1__20150212_L1A0000647768-MSS1 (2).tif', 'GF2_PMS1__20150212_L1A0000647768-MSS1_label.tif', 'GF2_PMS1__20150902_L1A0001015649-MSS1 (2).tif', 'GF2_PMS1__20150902_L1A0001015649-MSS1_label.tif', 'GF2_PMS1__20151203_L1A0001217916-MSS1 (2).tif', 'GF2_PMS1__20151203_L1A0001217916-MSS1_label.tif', 'GF2_PMS1__20160327_L1A0001491417-MSS1 (2).tif', 'GF2_PMS1__20160327_L1A0001491417-MSS1_label.tif', 'GF2_PMS1__20160421_L1A0001537716-MSS1 (2).tif', 'GF2_PMS1__20160421_L1A0001537716-MSS1_label.tif', 'GF2_PMS1__20160816_L1A0001765570-MSS1 (2).tif', 'GF2_PMS1__20160816_L1A0001765570-MSS1_label.tif', 'GF2_PMS1__20160827_L1A0001793003-MSS1 (2).tif', 'GF2_PMS1__20160827_L1A0001793003-MSS1_label.tif', 'GF2_PMS2__20150217_L1A0000658637-MSS2 (2).tif', 'GF2_PMS2__20150217_L1A0000658637-MSS2_label.tif', 'GF2_PMS2__20160225_L1A0001433318-MSS2 (2).tif', 'GF2_PMS2__20160225_L1A0001433318-MSS2_label.tif', 'GF2_PMS2__20160510_L1A0001573999-MSS2 (2).tif', 'GF2_PMS2__20160510_L1A0001573999-MSS2_label.tif']\n"
     ]
    }
   ],
   "source": [
    "filelist = os.listdir('../data/all/')\n",
    "print(filelist)"
   ]
  },
  {
   "cell_type": "code",
   "execution_count": 3,
   "metadata": {},
   "outputs": [
    {
     "name": "stdout",
     "output_type": "stream",
     "text": [
      "Reading GF2_PMS1__20150212_L1A0000647768-MSS1 (2).tif...\n",
      "Save name is 20150212_L1A0000647768\n",
      "Reading GF2_PMS1__20150212_L1A0000647768-MSS1_label.tif...\n",
      "Save name is 20150212_L1A0000647768\n",
      "Reading GF2_PMS1__20150902_L1A0001015649-MSS1 (2).tif...\n",
      "Save name is 20150902_L1A0001015649\n",
      "Reading GF2_PMS1__20150902_L1A0001015649-MSS1_label.tif...\n",
      "Save name is 20150902_L1A0001015649\n",
      "Reading GF2_PMS1__20151203_L1A0001217916-MSS1 (2).tif...\n",
      "Save name is 20151203_L1A0001217916\n",
      "Reading GF2_PMS1__20151203_L1A0001217916-MSS1_label.tif...\n",
      "Save name is 20151203_L1A0001217916\n",
      "Reading GF2_PMS1__20160327_L1A0001491417-MSS1 (2).tif...\n",
      "Save name is 20160327_L1A0001491417\n",
      "Reading GF2_PMS1__20160327_L1A0001491417-MSS1_label.tif...\n",
      "Save name is 20160327_L1A0001491417\n",
      "Reading GF2_PMS1__20160421_L1A0001537716-MSS1 (2).tif...\n",
      "Save name is 20160421_L1A0001537716\n",
      "Reading GF2_PMS1__20160421_L1A0001537716-MSS1_label.tif...\n",
      "Save name is 20160421_L1A0001537716\n",
      "Reading GF2_PMS1__20160816_L1A0001765570-MSS1 (2).tif...\n",
      "Save name is 20160816_L1A0001765570\n",
      "Reading GF2_PMS1__20160816_L1A0001765570-MSS1_label.tif...\n",
      "Save name is 20160816_L1A0001765570\n",
      "Reading GF2_PMS1__20160827_L1A0001793003-MSS1 (2).tif...\n",
      "Save name is 20160827_L1A0001793003\n",
      "Reading GF2_PMS1__20160827_L1A0001793003-MSS1_label.tif...\n",
      "Save name is 20160827_L1A0001793003\n",
      "Reading GF2_PMS2__20150217_L1A0000658637-MSS2 (2).tif...\n",
      "Save name is 20150217_L1A0000658637\n",
      "Reading GF2_PMS2__20150217_L1A0000658637-MSS2_label.tif...\n",
      "Save name is 20150217_L1A0000658637\n",
      "Reading GF2_PMS2__20160225_L1A0001433318-MSS2 (2).tif...\n",
      "Save name is 20160225_L1A0001433318\n",
      "Reading GF2_PMS2__20160225_L1A0001433318-MSS2_label.tif...\n",
      "Save name is 20160225_L1A0001433318\n",
      "Reading GF2_PMS2__20160510_L1A0001573999-MSS2 (2).tif...\n",
      "Save name is 20160510_L1A0001573999\n",
      "Reading GF2_PMS2__20160510_L1A0001573999-MSS2_label.tif...\n",
      "Save name is 20160510_L1A0001573999\n"
     ]
    }
   ],
   "source": [
    "for file in filelist:\n",
    "    if file.split('_')[-1] != 'label.tif':\n",
    "        print('Reading {}...'.format(file))\n",
    "        tif = TIFF.open('../data/all/'+file, mode = 'r')\n",
    "        img = tif.read_image()\n",
    "        shape = img.shape\n",
    "        img1 = img[:3400,:3600,]   # ↖\n",
    "        img2 = img[:3400,3600:,]   # ↗\n",
    "        img3 = img[3400:,:3600,]   # ↙\n",
    "        img4 = img[3400:,3600:,]   # ↘\n",
    "        newname = file.split('_')[3]+'_'+file.split('_')[4].split('-')[0]\n",
    "        print('Save name is {}'.format(newname))\n",
    "        cv2.imwrite('../data/vis/all_1031/{}_1.png'.format(newname), img1[:,:,1:][:,:,[2,1,0]])\n",
    "        np.save('../data/all_1031/{}_1'.format(newname), img1)\n",
    "        cv2.imwrite('../data/vis/all_1031/{}_2.png'.format(newname), img2[:,:,1:][:,:,[2,1,0]])\n",
    "        np.save('../data/all_1031/{}_2'.format(newname), img2)\n",
    "        cv2.imwrite('../data/vis/all_1031/{}_3.png'.format(newname), img3[:,:,1:][:,:,[2,1,0]])\n",
    "        np.save('../data/all_1031/{}_3'.format(newname), img3)\n",
    "        cv2.imwrite('../data/vis/all_1031/{}_4.png'.format(newname), img4[:,:,1:][:,:,[2,1,0]])\n",
    "        np.save('../data/all_1031/{}_4'.format(newname), img4)\n",
    "    else:\n",
    "        print('Reading {}...'.format(file))\n",
    "        tif = TIFF.open('../data/all/'+file, mode = 'r')\n",
    "        img = tif.read_image()\n",
    "        shape = img.shape\n",
    "        img1 = img[:3400,:3600,]   # ↖\n",
    "        img2 = img[:3400,3600:,]   # ↗\n",
    "        img3 = img[3400:,:3600,]   # ↙\n",
    "        img4 = img[3400:,3600:,]   # ↘\n",
    "        newname = file.split('_')[3]+'_'+file.split('_')[4].split('-')[0]\n",
    "        print('Save name is {}'.format(newname))\n",
    "        cv2.imwrite('../data/vis/all_1031/{}_1_label.png'.format(newname), img1[:,:,[2,1,0]])\n",
    "        np.save('../data/all_1031/{}_1_label'.format(newname), img1)\n",
    "        cv2.imwrite('../data/vis/all_1031/{}_2_label.png'.format(newname), img2[:,:,[2,1,0]])\n",
    "        np.save('../data/all_1031/{}_2_label'.format(newname), img2)\n",
    "        cv2.imwrite('../data/vis/all_1031/{}_3_label.png'.format(newname), img3[:,:,[2,1,0]])\n",
    "        np.save('../data/all_1031/{}_3_label'.format(newname), img3)\n",
    "        cv2.imwrite('../data/vis/all_1031/{}_4_label.png'.format(newname), img4[:,:,[2,1,0]])\n",
    "        np.save('../data/all_1031/{}_4_label'.format(newname), img4)\n",
    "        #print(label.shape)\n",
    "        #np.save('../data/label/'+file, label)"
   ]
  }
 ],
 "metadata": {
  "kernelspec": {
   "display_name": "Python 3",
   "language": "python",
   "name": "python3"
  },
  "language_info": {
   "codemirror_mode": {
    "name": "ipython",
    "version": 3
   },
   "file_extension": ".py",
   "mimetype": "text/x-python",
   "name": "python",
   "nbconvert_exporter": "python",
   "pygments_lexer": "ipython3",
   "version": "3.8.0"
  }
 },
 "nbformat": 4,
 "nbformat_minor": 2
}
