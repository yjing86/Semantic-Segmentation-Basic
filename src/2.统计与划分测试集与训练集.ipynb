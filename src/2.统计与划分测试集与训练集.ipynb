{
 "cells": [
  {
   "cell_type": "markdown",
   "metadata": {},
   "source": [
    "# 2. 数据统计与划分测试集与训练集\n",
    "## 2.1将label保存成numpy非one-hot格式"
   ]
  },
  {
   "cell_type": "markdown",
   "metadata": {},
   "source": [
    "| 名称 | 像素 | 类别 |\n",
    "| -- | -- | -- |\n",
    "|水    田 | R:0, G:200, B:0 | 1 |\n",
    "|水 浇 地 | R:150, G:250, B:0 | 2 |\n",
    "|旱 耕 地 | R:150, G:200, B:150 | 3 |\n",
    "|园    地 | R:200, G:0, B:200 | 4 |\n",
    "|乔木林地 | R:150, G:0, B:250 | 5 |\n",
    "|灌木林地 | R:150, G:150, B:250 | 6 |\n",
    "|天然草地 | R:250, G:200, B:0 | 7 |\n",
    "|人工草地 | R:200, G:200, B:0 | 8 |\n",
    "|工业用地 | R:200, G:0, B:0 | 9 |\n",
    "|城市住宅 | R:250, G:0, B:150 | 10 |\n",
    "|村镇住宅 | R:200, G:150, B:150 | 11 |\n",
    "|交通运输 | R:250, G:150, B:150 | 12 |\n",
    "|河    流 | R:0, G:0, B:200 | 13 |\n",
    "|湖    泊 | R:0, G:150, B:200 | 14|\n",
    "|坑    塘 | R:0, G:200, B:250 | 15 |\n",
    "|其他类别 | R:0, G:0, B:0 | 0|"
   ]
  },
  {
   "cell_type": "code",
   "execution_count": 1,
   "metadata": {},
   "outputs": [],
   "source": [
    "import os\n",
    "import gc\n",
    "import cv2\n",
    "import random\n",
    "import numpy as np\n",
    "\n",
    "from libtiff import TIFF\n",
    "from tqdm import tqdm"
   ]
  },
  {
   "cell_type": "code",
   "execution_count": 3,
   "metadata": {},
   "outputs": [
    {
     "name": "stdout",
     "output_type": "stream",
     "text": [
      "['20150212_L1A0000647768_1.npy', '20150212_L1A0000647768_1_label.npy', '20150212_L1A0000647768_2.npy', '20150212_L1A0000647768_2_label.npy', '20150212_L1A0000647768_3.npy', '20150212_L1A0000647768_3_label.npy', '20150212_L1A0000647768_4.npy', '20150212_L1A0000647768_4_label.npy', '20150217_L1A0000658637_1.npy', '20150217_L1A0000658637_1_label.npy', '20150217_L1A0000658637_2.npy', '20150217_L1A0000658637_2_label.npy', '20150217_L1A0000658637_3.npy', '20150217_L1A0000658637_3_label.npy', '20150217_L1A0000658637_4.npy', '20150217_L1A0000658637_4_label.npy', '20150902_L1A0001015649_1.npy', '20150902_L1A0001015649_1_label.npy', '20150902_L1A0001015649_2.npy', '20150902_L1A0001015649_2_label.npy', '20150902_L1A0001015649_3.npy', '20150902_L1A0001015649_4.npy', '20150902_L1A0001015649_4_label.npy', '20151203_L1A0001217916_1.npy', '20151203_L1A0001217916_1_label.npy', '20151203_L1A0001217916_2.npy', '20151203_L1A0001217916_2_label.npy', '20151203_L1A0001217916_3.npy', '20151203_L1A0001217916_3_label.npy', '20151203_L1A0001217916_4.npy', '20151203_L1A0001217916_4_label.npy', '20160225_L1A0001433318_1.npy', '20160225_L1A0001433318_1_label.npy', '20160225_L1A0001433318_2.npy', '20160225_L1A0001433318_2_label.npy', '20160225_L1A0001433318_3.npy', '20160225_L1A0001433318_3_label.npy', '20160225_L1A0001433318_4.npy', '20160225_L1A0001433318_4_label.npy', '20160327_L1A0001491417_1.npy', '20160327_L1A0001491417_1_label.npy', '20160327_L1A0001491417_2.npy', '20160327_L1A0001491417_3.npy', '20160327_L1A0001491417_3_label.npy', '20160327_L1A0001491417_4.npy', '20160327_L1A0001491417_4_label.npy', '20160421_L1A0001537716_1.npy', '20160421_L1A0001537716_1_label.npy', '20160421_L1A0001537716_2.npy', '20160421_L1A0001537716_2_label.npy', '20160421_L1A0001537716_3.npy', '20160421_L1A0001537716_3_label.npy', '20160421_L1A0001537716_4.npy', '20160421_L1A0001537716_4_label.npy', '20160510_L1A0001573999_1.npy', '20160510_L1A0001573999_1_label.npy', '20160510_L1A0001573999_2.npy', '20160510_L1A0001573999_2_label.npy', '20160510_L1A0001573999_3.npy', '20160510_L1A0001573999_3_label.npy', '20160510_L1A0001573999_4.npy', '20160510_L1A0001573999_4_label.npy', '20160816_L1A0001765570_1.npy', '20160816_L1A0001765570_2.npy', '20160816_L1A0001765570_2_label.npy', '20160816_L1A0001765570_3.npy', '20160816_L1A0001765570_3_label.npy', '20160816_L1A0001765570_4.npy', '20160816_L1A0001765570_4_label.npy', '20160827_L1A0001793003_1.npy', '20160827_L1A0001793003_1_label.npy', '20160827_L1A0001793003_2.npy', '20160827_L1A0001793003_2_label.npy', '20160827_L1A0001793003_3.npy', '20160827_L1A0001793003_3_label.npy', '20160827_L1A0001793003_4.npy', '20160827_L1A0001793003_4_label.npy', '20150902_L1A0001015649_3_label.npy', '20160327_L1A0001491417_2_label.npy', '20160816_L1A0001765570_1_label.npy']\n"
     ]
    }
   ],
   "source": [
    "filelist = os.listdir('../data/all_1031/')\n",
    "print(filelist)"
   ]
  },
  {
   "cell_type": "code",
   "execution_count": 4,
   "metadata": {},
   "outputs": [],
   "source": [
    "CLS = {'[0, 0, 0]' : 0,\n",
    "       '[0, 200, 0]' : 1,\n",
    "       '[150, 250, 0]' : 2,\n",
    "       '[150, 200, 150]' : 3,\n",
    "       '[200, 0, 200]' : 4,\n",
    "       '[150, 0, 250]' : 5,\n",
    "       '[150, 150, 250]' : 6,\n",
    "       '[250, 200, 0]' : 7,\n",
    "       '[200, 200, 0]' : 8,\n",
    "       '[200, 0, 0]' : 9,\n",
    "       '[250, 0, 150]' : 10,\n",
    "       '[200, 150, 150]' : 11,\n",
    "       '[250, 150, 150]' : 12,\n",
    "       '[0, 0, 200]' : 13,\n",
    "       '[0, 150, 200]' : 14,\n",
    "       '[0, 200, 250]' : 15}"
   ]
  },
  {
   "cell_type": "code",
   "execution_count": 21,
   "metadata": {
    "scrolled": true
   },
   "outputs": [
    {
     "name": "stdout",
     "output_type": "stream",
     "text": [
      "Read... 20150212_L1A0000647768_1_label.npy\n",
      "(3400, 3600):[5793809.       0. 3493699.       0.       0. 1030766.       0.       0.\n",
      "       0.    9011.   10065.  531391.       0.  567533.  733835.   69891.]\n",
      "\n",
      "Read... 20150212_L1A0000647768_2_label.npy\n",
      "(3400, 3600):[6.439561e+06 0.000000e+00 3.247676e+06 0.000000e+00 0.000000e+00\n",
      " 5.730300e+05 0.000000e+00 0.000000e+00 0.000000e+00 2.998350e+05\n",
      " 1.932540e+05 2.991700e+05 5.484100e+04 0.000000e+00 1.132632e+06\n",
      " 1.000000e+00]\n",
      "\n",
      "Read... 20150212_L1A0000647768_3_label.npy\n",
      "(3400, 3600):[3051755.       0. 7738840.       0.  725261.   90739.       0.       0.\n",
      "       0.    8147.  136665.  378256.       0.       0.       0.  110337.]\n",
      "\n",
      "Read... 20150212_L1A0000647768_4_label.npy\n",
      "(3400, 3600):[5832807.       0. 3784821.       0.   21994.  364412.       0.       0.\n",
      "       0.  203454.   83906.  324494.       0.   70726. 1337199.  216187.]\n",
      "\n",
      "Read... 20150217_L1A0000658637_1_label.npy\n",
      "(3400, 3600):[3.105225e+06 5.403259e+06 2.879217e+06 0.000000e+00 0.000000e+00\n",
      " 0.000000e+00 0.000000e+00 0.000000e+00 0.000000e+00 2.652300e+04\n",
      " 3.855180e+05 2.708700e+04 2.883000e+03 1.808450e+05 0.000000e+00\n",
      " 2.294430e+05]\n",
      "\n",
      "Read... 20150217_L1A0000658637_2_label.npy\n",
      "(3400, 3600):[5172528.  102376. 4037489.       0.       0.       0.       0.       0.\n",
      "       0.  698041.  817892.  322980.   95881.  762613.       0.  230200.]\n",
      "\n",
      "Read... 20150217_L1A0000658637_3_label.npy\n",
      "(3400, 3600):[2746966.  278613. 8856431.       0.       0.   80799.       0.       0.\n",
      "       0.   32034.   19790.   34279.       0.  191088.       0.       0.]\n",
      "\n",
      "Read... 20150217_L1A0000658637_4_label.npy\n",
      "(3400, 3600):[7363061.   23799. 2811487.       0.       0.  632057.       0.       0.\n",
      "       0.   84785.  463736.   61927.   27110.  421949.       0.  350089.]\n",
      "\n",
      "Read... 20150902_L1A0001015649_1_label.npy\n",
      "(3400, 3600):[2.186755e+06 3.078987e+06 6.632276e+06 0.000000e+00 0.000000e+00\n",
      " 0.000000e+00 0.000000e+00 0.000000e+00 0.000000e+00 0.000000e+00\n",
      " 9.935000e+04 1.913410e+05 0.000000e+00 4.625200e+04 0.000000e+00\n",
      " 5.039000e+03]\n",
      "\n",
      "Read... 20150902_L1A0001015649_2_label.npy\n",
      "(3400, 3600):[3889069. 1838323. 4916383.       0.       0.       0.       0.       0.\n",
      "       0.       0.       0.       0.       0.   85519.       0. 1510706.]\n",
      "\n",
      "Read... 20150902_L1A0001015649_4_label.npy\n",
      "(3400, 3600):[1624840. 4223389. 5261046.       0.       0.       0.       0.       0.\n",
      "       0.       0.       0.   43285.       0.  292955.       0.  794485.]\n",
      "\n",
      "Read... 20151203_L1A0001217916_1_label.npy\n",
      "(3400, 3600):[5246250.       0.       0.  339502.       0.       0.       0.       0.\n",
      "       0. 1386890. 4549820.       0.  590390.  127148.       0.       0.]\n",
      "\n",
      "Read... 20151203_L1A0001217916_2_label.npy\n",
      "(3400, 3600):[2841930.       0.       0.       0.       0.       0.       0.       0.\n",
      "       0. 1485387. 6776102.       0.  210392.  926189.       0.       0.]\n",
      "\n",
      "Read... 20151203_L1A0001217916_3_label.npy\n",
      "(3400, 3600):[2621697.       0.       0.       0.       0.       0.       0.       0.\n",
      "       0.  507545. 8179297.       0.  740055.  191406.       0.       0.]\n",
      "\n",
      "Read... 20151203_L1A0001217916_4_label.npy\n",
      "(3400, 3600):[1468091.       0.       0.       0.       0.       0.       0.       0.\n",
      "       0.   18531. 9590165.       0.  386619.  776594.       0.       0.]\n",
      "\n",
      "Read... 20160225_L1A0001433318_1_label.npy\n",
      "(3400, 3600):[6052764.       0. 2636333.       0. 1330686. 1524774.  637560.       0.\n",
      "       0.       0.       0.    6332.   51551.       0.       0.       0.]\n",
      "\n",
      "Read... 20160225_L1A0001433318_2_label.npy\n",
      "(3400, 3600):[5.748098e+06 0.000000e+00 5.582113e+06 0.000000e+00 0.000000e+00\n",
      " 0.000000e+00 0.000000e+00 0.000000e+00 0.000000e+00 0.000000e+00\n",
      " 0.000000e+00 3.308610e+05 5.290000e+03 5.736380e+05 0.000000e+00\n",
      " 0.000000e+00]\n",
      "\n",
      "Read... 20160225_L1A0001433318_3_label.npy\n",
      "(3400, 3600):[6732524.       0. 4529173.       0.  869415.       0.       0.  108888.\n",
      "       0.       0.       0.       0.       0.       0.       0.       0.]\n",
      "\n",
      "Read... 20160225_L1A0001433318_4_label.npy\n",
      "(3400, 3600):[6.686527e+06 0.000000e+00 4.968546e+06 0.000000e+00 0.000000e+00\n",
      " 0.000000e+00 0.000000e+00 0.000000e+00 0.000000e+00 0.000000e+00\n",
      " 0.000000e+00 5.396000e+03 0.000000e+00 5.795310e+05 0.000000e+00\n",
      " 0.000000e+00]\n",
      "\n",
      "Read... 20160327_L1A0001491417_1_label.npy\n",
      "(3400, 3600):[8.069838e+06 0.000000e+00 0.000000e+00 3.404331e+06 0.000000e+00\n",
      " 0.000000e+00 1.769620e+05 0.000000e+00 0.000000e+00 0.000000e+00\n",
      " 0.000000e+00 3.134960e+05 0.000000e+00 0.000000e+00 2.677000e+05\n",
      " 7.673000e+03]\n",
      "\n",
      "Read... 20160327_L1A0001491417_3_label.npy\n",
      "(3400, 3600):[2984508.       0.       0. 4978791.       0.       0.   52640.       0.\n",
      "       0.       0.  112632.  362651.       0.       0. 3748778.       0.]\n",
      "\n",
      "Read... 20160327_L1A0001491417_4_label.npy\n",
      "(3400, 3600):[8983093.       0.       0. 2350592.   52942.       0.    9140.       0.\n",
      "       0.  167677.   78600.  547487.   50469.       0.       0.       0.]\n",
      "\n",
      "Read... 20160421_L1A0001537716_1_label.npy\n",
      "(3400, 3600):[7750752.       0.       0.  562872.       0.       0.       0.       0.\n",
      "       0.  575562. 2957090.       0.   53735.  316874.       0.   23115.]\n",
      "\n",
      "Read... 20160421_L1A0001537716_2_label.npy\n",
      "(3400, 3600):[5234808.       0.       0. 2114045.       0.       0.       0.       0.\n",
      "       0.  197776. 4244731.       0.  161620.  272589.       0.   14431.]\n",
      "\n",
      "Read... 20160421_L1A0001537716_3_label.npy\n",
      "(3400, 3600):[5844041.       0.       0.  194932.       0.       0.       0.       0.\n",
      "       0.  703345. 4740431.       0.  616750.  124572.       0.   15929.]\n",
      "\n",
      "Read... 20160421_L1A0001537716_4_label.npy\n",
      "(3400, 3600):[6535097.       0.       0. 1901656.       0.       0.       0.       0.\n",
      "       0.  533810. 2662064.       0.   47367.  486869.       0.   73137.]\n",
      "\n",
      "Read... 20160510_L1A0001573999_1_label.npy\n",
      "(3400, 3600):[9338242.       0.       0.       0.       0.       0.       0. 2901758.\n",
      "       0.       0.       0.       0.       0.       0.       0.       0.]\n",
      "\n",
      "Read... 20160510_L1A0001573999_2_label.npy\n",
      "(3400, 3600):[9322543.       0.       0.       0.       0.       0.       0. 2917457.\n",
      "       0.       0.       0.       0.       0.       0.       0.       0.]\n",
      "\n",
      "Read... 20160510_L1A0001573999_3_label.npy\n",
      "(3400, 3600):[8209121.       0.       0.       0.       0.       0.       0. 4030879.\n",
      "       0.       0.       0.       0.       0.       0.       0.       0.]\n",
      "\n",
      "Read... 20160510_L1A0001573999_4_label.npy\n",
      "(3400, 3600):[9463650.       0.       0.       0.       0.       0.       0. 2776350.\n",
      "       0.       0.       0.       0.       0.       0.       0.       0.]\n",
      "\n",
      "Read... 20160816_L1A0001765570_2_label.npy\n",
      "(3400, 3600):[3830423.       0.       0. 7885197.  119941.       0.       0.  166441.\n",
      "       0.       0.       0.  106945.       0.       0.       0.  131053.]\n",
      "\n",
      "Read... 20160816_L1A0001765570_3_label.npy\n",
      "(3400, 3600):[3931423.       0.       0. 8009545.       0.       0.       0.   32443.\n",
      "       0.       0.       0.  132946.       0.  133643.       0.       0.]\n",
      "\n",
      "Read... 20160816_L1A0001765570_4_label.npy\n",
      "(3400, 3600):[4351677.       0.       0. 7561698.       0.       0.       0.  110452.\n",
      "       0.       0.       0.  191170.       0.   25003.       0.       0.]\n",
      "\n",
      "Read... 20160827_L1A0001793003_1_label.npy\n",
      "(3400, 3600):[6050002.       0.       0.  349877.  671779.       0.       0.       0.\n",
      "  894913.  161832. 2238829. 1510479.   70209.  136395.       0.  155685.]\n",
      "\n",
      "Read... 20160827_L1A0001793003_2_label.npy\n",
      "(3400, 3600):[7015210.       0.       0.  105778.  721780.       0.   72630.       0.\n",
      "  390550.  563088. 1443023. 1528228.  231949.  109908.       0.   57856.]\n",
      "\n",
      "Read... 20160827_L1A0001793003_3_label.npy\n",
      "(3400, 3600):[3457825.       0.       0.   16268.   68036.       0.  168111.       0.\n",
      "   83068.  148539. 7594876.   50832.  473873.   69125.       0.  109447.]\n",
      "\n",
      "Read... 20160827_L1A0001793003_4_label.npy\n",
      "(3400, 3600):[4907373.       0.       0.   17679.   50710.       0.    7888.       0.\n",
      "  918627.   94059. 5278264.  348093.  542794.   51240.       0.   23273.]\n",
      "\n",
      "Read... 20150902_L1A0001015649_3_label.npy\n",
      "(3400, 3600):[1708636. 4188978. 6320871.       0.       0.       0.       0.       0.\n",
      "       0.       0.       0.    8185.       0.   13330.       0.       0.]\n",
      "\n",
      "Read... 20160327_L1A0001491417_2_label.npy\n",
      "(3400, 3600):[5259304.       0.       0. 5233230.       0.       0.   82552.       0.\n",
      "       0.       0.  641692.  813403.   42324.       0.  167495.       0.]\n",
      "\n",
      "Read... 20160816_L1A0001765570_1_label.npy\n"
     ]
    },
    {
     "name": "stdout",
     "output_type": "stream",
     "text": [
      "(3400, 3600):[ 2055585.        0.        0. 10046098.   100609.        0.        0.\n",
      "        0.        0.        0.        0.    37708.        0.        0.\n",
      "        0.        0.]\n",
      "\n"
     ]
    }
   ],
   "source": [
    "all_count_list = []  # 记录全局类别数量\n",
    "for file in filelist:\n",
    "    if file.split('_')[-1] == 'label.npy':\n",
    "        print('Read... {}'.format(file))\n",
    "        npy = np.load('../data/all_1031/'+file)\n",
    "        shape = npy.shape\n",
    "        label = np.zeros((shape[0],shape[1]),dtype=np.uint8)\n",
    "        count_list = np.zeros((16,))    # 记录单张图的类别数量\n",
    "        for i in range(shape[0]):\n",
    "            for j in range(shape[1]):\n",
    "                label[i][j] = CLS['{}'.format(list(npy[i][j]))]   # 通过字典形式快速索引类别编号\n",
    "            count_list += np.bincount(label[i], minlength=16)\n",
    "        all_count_list.append(count_list)\n",
    "        print(\"{}:{}\\n\".format(label.shape, count_list))\n",
    "        np.save('../data/all_1031/'+ os.path.splitext(file)[0]+'_clsindex.npy', label)"
   ]
  },
  {
   "cell_type": "code",
   "execution_count": 25,
   "metadata": {},
   "outputs": [
    {
     "name": "stdout",
     "output_type": "stream",
     "text": [
      "[2.08907408e+08 1.91377240e+07 7.76964010e+07 5.50720910e+07\n",
      " 4.73315300e+06 4.29657700e+06 1.20748300e+06 1.30446680e+07\n",
      " 2.28715800e+06 7.90587100e+06 6.32977920e+07 8.50842200e+06\n",
      " 4.45610200e+06 7.53353400e+06 7.38763900e+06 4.12797700e+06]\n"
     ]
    }
   ],
   "source": [
    "print(np.sum(all_count_list, axis=0))"
   ]
  },
  {
   "cell_type": "markdown",
   "metadata": {},
   "source": [
    "## 2.2 可视化全部文件的各类别数量"
   ]
  },
  {
   "cell_type": "code",
   "execution_count": 2,
   "metadata": {},
   "outputs": [],
   "source": [
    "from matplotlib import pyplot as plt\n",
    "import shutil\n",
    "%matplotlib inline"
   ]
  },
  {
   "cell_type": "markdown",
   "metadata": {},
   "source": [
    "### 2.2.1 包含背景(black)类别的数量统计"
   ]
  },
  {
   "cell_type": "code",
   "execution_count": 40,
   "metadata": {},
   "outputs": [
    {
     "name": "stdout",
     "output_type": "stream",
     "text": [
      "[2.08907408e+08 1.91377240e+07 7.76964010e+07 5.50720910e+07\n",
      " 4.73315300e+06 4.29657700e+06 1.20748300e+06 1.30446680e+07\n",
      " 2.28715800e+06 7.90587100e+06 6.32977920e+07 8.50842200e+06\n",
      " 4.45610200e+06 7.53353400e+06 7.38763900e+06 4.12797700e+06]\n"
     ]
    },
    {
     "data": {
      "text/plain": [
       "<BarContainer object of 16 artists>"
      ]
     },
     "execution_count": 40,
     "metadata": {},
     "output_type": "execute_result"
    },
    {
     "data": {
      "image/png": "[encoded data removed]",
      "text/plain": [
       "<Figure size 432x288 with 1 Axes>"
      ]
     },
     "metadata": {
      "needs_background": "light"
     },
     "output_type": "display_data"
    }
   ],
   "source": [
    "cls_num = np.sum(all_count_list, axis=0)\n",
    "cls_list = np.arange(0,16)\n",
    "print(cls_num)\n",
    "plt.bar(x=cls_list, height=cls_num, label='各类别数量', color='steelblue')"
   ]
  },
  {
   "cell_type": "markdown",
   "metadata": {},
   "source": [
    "### 2.2.2 无背景类别的数量统计"
   ]
  },
  {
   "cell_type": "code",
   "execution_count": 42,
   "metadata": {},
   "outputs": [
    {
     "data": {
      "text/plain": [
       "<BarContainer object of 15 artists>"
      ]
     },
     "execution_count": 42,
     "metadata": {},
     "output_type": "execute_result"
    },
    {
     "data": {
      "image/png": "[encoded data removed]",
      "text/plain": [
       "<Figure size 432x288 with 1 Axes>"
      ]
     },
     "metadata": {
      "needs_background": "light"
     },
     "output_type": "display_data"
    }
   ],
   "source": [
    "plt.barh(y=cls_list[1:], width=cls_num[1:], label='除其他类外数量', color='steelblue')"
   ]
  },
  {
   "cell_type": "markdown",
   "metadata": {},
   "source": [
    "## 2.3  分析单张1/4图片的类别分布，以平衡test与train的各类别\n",
    "* 需要手动拷贝到../data/test/文件夹中"
   ]
  },
  {
   "cell_type": "code",
   "execution_count": 55,
   "metadata": {
    "scrolled": false
   },
   "outputs": [
    {
     "name": "stdout",
     "output_type": "stream",
     "text": [
      "[3544596.666666666, 3381822.000000001, 7037572.666666666, 2675652.6666666665]\n",
      "Copy test file 20150212_L1A0000647768_3\n",
      "\n",
      "[8619726.000000002, 4929934.0, 8760761.333333332, 5491691.333333333]\n",
      "Copy test file 20150217_L1A0000658637_1\n",
      "\n",
      "[7550292.666666668, 5262068.0, 6834143.333333334, 16346332.666666666]\n",
      "Copy test file 20150902_L1A0001015649_1\n",
      "\n",
      "[4994076.666666667, 5675398.000000001, 7752722.0, 16013561.333333334]\n",
      "Copy test file 20151203_L1A0001217916_0\n",
      "\n",
      "[4638177.666666666, 3878882.3333333335, 3809245.0000000005, 9796941.000000002]\n",
      "Copy test file 20160225_L1A0001433318_2\n",
      "\n",
      "[10224586.333333334, 4618827.666666666, 6369607.000000001, 5653755.666666666]\n",
      "Copy test file 20160421_L1A0001537716_1\n",
      "\n",
      "[7404305.000000001, 5829087.666666666, 5962893.000000001, 5983825.000000001]\n",
      "Copy test file 20160510_L1A0001573999_1\n",
      "\n",
      "[8545557.666666666, 6872852.333333333, 7686969.666666666, 7987865.0]\n",
      "Copy test file 20160816_L1A0001765570_1\n",
      "\n",
      "[13873682.666666666, 5576931.333333333, 6482731.999999999, 11498021.999999998]\n",
      "Copy test file 20160827_L1A0001793003_1\n",
      "\n",
      "[15408817.333333332, 18654246.666666668, 7985031.999999999, 14856148.666666666]\n",
      "Copy test file 20160327_L1A0001491417_2\n",
      "\n"
     ]
    }
   ],
   "source": [
    "for i in range(len(all_count_list)//4):\n",
    "    count_list_4 = all_count_list[4*i:4*i+4]\n",
    "    dif = []\n",
    "    for index,tmp in enumerate(count_list_4):\n",
    "        avg_list = (np.sum(count_list_4, axis=0)-tmp)/3\n",
    "        dif.append(np.sum(abs(avg_list[1:]-tmp[1:])))    \n",
    "    print(dif)\n",
    "    test_filename = (filelist[(4*i+index)*2].split('_')[0]+'_'+filelist[(4*i+index)*2].split('_')[1]\n",
    "                     +'_'+str(dif.index(min(dif))))\n",
    "    print('Copy test file {}\\n'.format(test_filename))"
   ]
  },
  {
   "cell_type": "markdown",
   "metadata": {},
   "source": [
    "## 2.4 分析test与train的类别分布\n",
    "### 2.4.1 train"
   ]
  },
  {
   "cell_type": "code",
   "execution_count": 3,
   "metadata": {},
   "outputs": [
    {
     "name": "stdout",
     "output_type": "stream",
     "text": [
      "Read... 20150212_L1A0000647768_1_label_onehot.npy\n",
      "(3400, 3600):[5793809.       0. 3493699.       0.       0. 1030766.       0.       0.\n",
      "       0.    9011.   10065.  531391.       0.  567533.  733835.   69891.]\n",
      "\n",
      "Read... 20150212_L1A0000647768_2_label_onehot.npy\n",
      "(3400, 3600):[6.439561e+06 0.000000e+00 3.247676e+06 0.000000e+00 0.000000e+00\n",
      " 5.730300e+05 0.000000e+00 0.000000e+00 0.000000e+00 2.998350e+05\n",
      " 1.932540e+05 2.991700e+05 5.484100e+04 0.000000e+00 1.132632e+06\n",
      " 1.000000e+00]\n",
      "\n",
      "Read... 20150212_L1A0000647768_3_label_onehot.npy\n",
      "(3400, 3600):[3051755.       0. 7738840.       0.  725261.   90739.       0.       0.\n",
      "       0.    8147.  136665.  378256.       0.       0.       0.  110337.]\n",
      "\n",
      "Read... 20150217_L1A0000658637_1_label_onehot.npy\n",
      "(3400, 3600):[3.105225e+06 5.403259e+06 2.879217e+06 0.000000e+00 0.000000e+00\n",
      " 0.000000e+00 0.000000e+00 0.000000e+00 0.000000e+00 2.652300e+04\n",
      " 3.855180e+05 2.708700e+04 2.883000e+03 1.808450e+05 0.000000e+00\n",
      " 2.294430e+05]\n",
      "\n",
      "Read... 20151203_L1A0001217916_2_label_onehot.npy\n",
      "(3400, 3600):[2841930.       0.       0.       0.       0.       0.       0.       0.\n",
      "       0. 1485387. 6776102.       0.  210392.  926189.       0.       0.]\n",
      "\n",
      "Read... 20151203_L1A0001217916_3_label_onehot.npy\n",
      "(3400, 3600):[2621697.       0.       0.       0.       0.       0.       0.       0.\n",
      "       0.  507545. 8179297.       0.  740055.  191406.       0.       0.]\n",
      "\n",
      "Read... 20151203_L1A0001217916_4_label_onehot.npy\n",
      "(3400, 3600):[1468091.       0.       0.       0.       0.       0.       0.       0.\n",
      "       0.   18531. 9590165.       0.  386619.  776594.       0.       0.]\n",
      "\n",
      "Read... 20160225_L1A0001433318_1_label_onehot.npy\n",
      "(3400, 3600):[6052764.       0. 2636333.       0. 1330686. 1524774.  637560.       0.\n",
      "       0.       0.       0.    6332.   51551.       0.       0.       0.]\n",
      "\n",
      "Read... 20160225_L1A0001433318_2_label_onehot.npy\n",
      "(3400, 3600):[5.748098e+06 0.000000e+00 5.582113e+06 0.000000e+00 0.000000e+00\n",
      " 0.000000e+00 0.000000e+00 0.000000e+00 0.000000e+00 0.000000e+00\n",
      " 0.000000e+00 3.308610e+05 5.290000e+03 5.736380e+05 0.000000e+00\n",
      " 0.000000e+00]\n",
      "\n",
      "Read... 20160225_L1A0001433318_4_label_onehot.npy\n",
      "(3400, 3600):[6.686527e+06 0.000000e+00 4.968546e+06 0.000000e+00 0.000000e+00\n",
      " 0.000000e+00 0.000000e+00 0.000000e+00 0.000000e+00 0.000000e+00\n",
      " 0.000000e+00 5.396000e+03 0.000000e+00 5.795310e+05 0.000000e+00\n",
      " 0.000000e+00]\n",
      "\n",
      "Read... 20150217_L1A0000658637_3_label_onehot.npy\n",
      "(3400, 3600):[2746966.  278613. 8856431.       0.       0.   80799.       0.       0.\n",
      "       0.   32034.   19790.   34279.       0.  191088.       0.       0.]\n",
      "\n",
      "Read... 20150217_L1A0000658637_4_label_onehot.npy\n",
      "(3400, 3600):[7363061.   23799. 2811487.       0.       0.  632057.       0.       0.\n",
      "       0.   84785.  463736.   61927.   27110.  421949.       0.  350089.]\n",
      "\n",
      "Read... 20150902_L1A0001015649_1_label_onehot.npy\n",
      "(3400, 3600):[2.186755e+06 3.078987e+06 6.632276e+06 0.000000e+00 0.000000e+00\n",
      " 0.000000e+00 0.000000e+00 0.000000e+00 0.000000e+00 0.000000e+00\n",
      " 9.935000e+04 1.913410e+05 0.000000e+00 4.625200e+04 0.000000e+00\n",
      " 5.039000e+03]\n",
      "\n",
      "Read... 20150902_L1A0001015649_3_label_onehot.npy\n",
      "(3400, 3600):[1708636. 4188978. 6320871.       0.       0.       0.       0.       0.\n",
      "       0.       0.       0.    8185.       0.   13330.       0.       0.]\n",
      "\n",
      "Read... 20150902_L1A0001015649_4_label_onehot.npy\n",
      "(3400, 3600):[1624840. 4223389. 5261046.       0.       0.       0.       0.       0.\n",
      "       0.       0.       0.   43285.       0.  292955.       0.  794485.]\n",
      "\n",
      "Read... 20160327_L1A0001491417_1_label_onehot.npy\n",
      "(3400, 3600):[8.069838e+06 0.000000e+00 0.000000e+00 3.404331e+06 0.000000e+00\n",
      " 0.000000e+00 1.769620e+05 0.000000e+00 0.000000e+00 0.000000e+00\n",
      " 0.000000e+00 3.134960e+05 0.000000e+00 0.000000e+00 2.677000e+05\n",
      " 7.673000e+03]\n",
      "\n",
      "Read... 20160327_L1A0001491417_2_label_onehot.npy\n",
      "(3400, 3600):[5259304.       0.       0. 5233230.       0.       0.   82552.       0.\n",
      "       0.       0.  641692.  813403.   42324.       0.  167495.       0.]\n",
      "\n",
      "Read... 20160327_L1A0001491417_4_label_onehot.npy\n",
      "(3400, 3600):[8983093.       0.       0. 2350592.   52942.       0.    9140.       0.\n",
      "       0.  167677.   78600.  547487.   50469.       0.       0.       0.]\n",
      "\n",
      "Read... 20160421_L1A0001537716_1_label_onehot.npy\n",
      "(3400, 3600):[7750752.       0.       0.  562872.       0.       0.       0.       0.\n",
      "       0.  575562. 2957090.       0.   53735.  316874.       0.   23115.]\n",
      "\n",
      "Read... 20160421_L1A0001537716_3_label_onehot.npy\n",
      "(3400, 3600):[5844041.       0.       0.  194932.       0.       0.       0.       0.\n",
      "       0.  703345. 4740431.       0.  616750.  124572.       0.   15929.]\n",
      "\n",
      "Read... 20160421_L1A0001537716_4_label_onehot.npy\n",
      "(3400, 3600):[6535097.       0.       0. 1901656.       0.       0.       0.       0.\n",
      "       0.  533810. 2662064.       0.   47367.  486869.       0.   73137.]\n",
      "\n",
      "Read... 20160510_L1A0001573999_1_label_onehot.npy\n",
      "(3400, 3600):[9338242.       0.       0.       0.       0.       0.       0. 2901758.\n",
      "       0.       0.       0.       0.       0.       0.       0.       0.]\n",
      "\n",
      "Read... 20160510_L1A0001573999_3_label_onehot.npy\n",
      "(3400, 3600):[8209121.       0.       0.       0.       0.       0.       0. 4030879.\n",
      "       0.       0.       0.       0.       0.       0.       0.       0.]\n",
      "\n",
      "Read... 20160510_L1A0001573999_4_label_onehot.npy\n",
      "(3400, 3600):[9463650.       0.       0.       0.       0.       0.       0. 2776350.\n",
      "       0.       0.       0.       0.       0.       0.       0.       0.]\n",
      "\n",
      "Read... 20160816_L1A0001765570_1_label_onehot.npy\n",
      "(3400, 3600):[ 2055585.        0.        0. 10046098.   100609.        0.        0.\n",
      "        0.        0.        0.        0.    37708.        0.        0.\n",
      "        0.        0.]\n",
      "\n",
      "Read... 20160816_L1A0001765570_3_label_onehot.npy\n",
      "(3400, 3600):[3931423.       0.       0. 8009545.       0.       0.       0.   32443.\n",
      "       0.       0.       0.  132946.       0.  133643.       0.       0.]\n",
      "\n",
      "Read... 20160816_L1A0001765570_4_label_onehot.npy\n",
      "(3400, 3600):[4351677.       0.       0. 7561698.       0.       0.       0.  110452.\n",
      "       0.       0.       0.  191170.       0.   25003.       0.       0.]\n",
      "\n",
      "Read... 20160827_L1A0001793003_1_label_onehot.npy\n",
      "(3400, 3600):[6050002.       0.       0.  349877.  671779.       0.       0.       0.\n",
      "  894913.  161832. 2238829. 1510479.   70209.  136395.       0.  155685.]\n",
      "\n",
      "Read... 20160827_L1A0001793003_3_label_onehot.npy\n",
      "(3400, 3600):[3457825.       0.       0.   16268.   68036.       0.  168111.       0.\n",
      "   83068.  148539. 7594876.   50832.  473873.   69125.       0.  109447.]\n",
      "\n",
      "Read... 20160827_L1A0001793003_4_label_onehot.npy\n",
      "(3400, 3600):[4907373.       0.       0.   17679.   50710.       0.    7888.       0.\n",
      "  918627.   94059. 5278264.  348093.  542794.   51240.       0.   23273.]\n",
      "\n"
     ]
    }
   ],
   "source": [
    "all_count_list = []  # 记录全局类别数量\n",
    "filelist = os.listdir('../data/train_1106/')\n",
    "for file in filelist:\n",
    "    if file.split('_')[-1] == 'clsindex.npy':\n",
    "        print('Read... {}'.format(file))\n",
    "        npy = np.load('../data/train_1106/'+file)\n",
    "        shape = npy.shape\n",
    "        count_list = np.zeros((16,))    # 记录单张图的类别数量\n",
    "        for i in range(shape[0]):\n",
    "            count_list += np.bincount(npy[i], minlength=16)\n",
    "        all_count_list.append(count_list)\n",
    "        print(\"{}:{}\\n\".format(npy.shape, count_list))"
   ]
  },
  {
   "cell_type": "code",
   "execution_count": 4,
   "metadata": {},
   "outputs": [
    {
     "data": {
      "text/plain": [
       "<BarContainer object of 16 artists>"
      ]
     },
     "execution_count": 4,
     "metadata": {},
     "output_type": "execute_result"
    },
    {
     "data": {
      "image/png": "[encoded data removed]",
      "text/plain": [
       "<Figure size 432x288 with 1 Axes>"
      ]
     },
     "metadata": {
      "needs_background": "light"
     },
     "output_type": "display_data"
    }
   ],
   "source": [
    "cls_num = np.sum(all_count_list, axis = 0)\n",
    "cls_list =np.arange(16)\n",
    "plt.bar(x=cls_list, height=cls_num)"
   ]
  },
  {
   "cell_type": "code",
   "execution_count": 5,
   "metadata": {},
   "outputs": [
    {
     "data": {
      "text/plain": [
       "<BarContainer object of 15 artists>"
      ]
     },
     "execution_count": 5,
     "metadata": {},
     "output_type": "execute_result"
    },
    {
     "data": {
      "image/png": "[encoded data removed]",
      "text/plain": [
       "<Figure size 432x288 with 1 Axes>"
      ]
     },
     "metadata": {
      "needs_background": "light"
     },
     "output_type": "display_data"
    }
   ],
   "source": [
    "plt.barh(y=cls_list[1:], width=cls_num[1:])"
   ]
  },
  {
   "cell_type": "code",
   "execution_count": 9,
   "metadata": {},
   "outputs": [
    {
     "name": "stdout",
     "output_type": "stream",
     "text": [
      "train各类别数量: \n",
      "[141.97458171  15.89061026  55.83793117  36.63676005   2.7721188\n",
      "   3.63344831   1.           9.1034593    1.75252746   4.48767664\n",
      "  48.09200037   5.41771721   3.11977587   5.64124715   2.12681053\n",
      "   1.81807463]\n"
     ]
    }
   ],
   "source": [
    "print(\"train各类别数量: \\n{}\".format(cls_num/min(cls_num)))"
   ]
  },
  {
   "cell_type": "markdown",
   "metadata": {},
   "source": [
    "### 2.4.2 test"
   ]
  },
  {
   "cell_type": "code",
   "execution_count": 7,
   "metadata": {
    "collapsed": true
   },
   "outputs": [
    {
     "name": "stdout",
     "output_type": "stream",
     "text": [
      "Read... 20150212_L1A0000647768_4_label_onehot.npy\n",
      "(3400, 3600):[5832807.       0. 3784821.       0.   21994.  364412.       0.       0.\n",
      "       0.  203454.   83906.  324494.       0.   70726. 1337199.  216187.]\n",
      "\n",
      "Read... 20150217_L1A0000658637_2_label_onehot.npy\n",
      "(3400, 3600):[5172528.  102376. 4037489.       0.       0.       0.       0.       0.\n",
      "       0.  698041.  817892.  322980.   95881.  762613.       0.  230200.]\n",
      "\n",
      "Read... 20150902_L1A0001015649_2_label_onehot.npy\n",
      "(3400, 3600):[3889069. 1838323. 4916383.       0.       0.       0.       0.       0.\n",
      "       0.       0.       0.       0.       0.   85519.       0. 1510706.]\n",
      "\n",
      "Read... 20151203_L1A0001217916_1_label_onehot.npy\n",
      "(3400, 3600):[5246250.       0.       0.  339502.       0.       0.       0.       0.\n",
      "       0. 1386890. 4549820.       0.  590390.  127148.       0.       0.]\n",
      "\n",
      "Read... 20160225_L1A0001433318_3_label_onehot.npy\n",
      "(3400, 3600):[6732524.       0. 4529173.       0.  869415.       0.       0.  108888.\n",
      "       0.       0.       0.       0.       0.       0.       0.       0.]\n",
      "\n",
      "Read... 20160327_L1A0001491417_3_label_onehot.npy\n",
      "(3400, 3600):[2984508.       0.       0. 4978791.       0.       0.   52640.       0.\n",
      "       0.       0.  112632.  362651.       0.       0. 3748778.       0.]\n",
      "\n",
      "Read... 20160421_L1A0001537716_2_label_onehot.npy\n",
      "(3400, 3600):[5234808.       0.       0. 2114045.       0.       0.       0.       0.\n",
      "       0.  197776. 4244731.       0.  161620.  272589.       0.   14431.]\n",
      "\n",
      "Read... 20160510_L1A0001573999_2_label_onehot.npy\n",
      "(3400, 3600):[9322543.       0.       0.       0.       0.       0.       0. 2917457.\n",
      "       0.       0.       0.       0.       0.       0.       0.       0.]\n",
      "\n",
      "Read... 20160816_L1A0001765570_2_label_onehot.npy\n",
      "(3400, 3600):[3830423.       0.       0. 7885197.  119941.       0.       0.  166441.\n",
      "       0.       0.       0.  106945.       0.       0.       0.  131053.]\n",
      "\n",
      "Read... 20160827_L1A0001793003_2_label_onehot.npy\n",
      "(3400, 3600):[7015210.       0.       0.  105778.  721780.       0.   72630.       0.\n",
      "  390550.  563088. 1443023. 1528228.  231949.  109908.       0.   57856.]\n",
      "\n"
     ]
    }
   ],
   "source": [
    "all_count_list = []  # 记录全局类别数量\n",
    "filelist = os.listdir('../data/test_1106/')\n",
    "for file in filelist:\n",
    "    if file.split('_')[-1] == 'onehot.npy':\n",
    "        print('Read... {}'.format(file))\n",
    "        npy = np.load('../data/test_1106/'+file)\n",
    "        shape = npy.shape\n",
    "        count_list = np.zeros((16,))    # 记录单张图的类别数量\n",
    "        for i in range(shape[0]):\n",
    "            count_list += np.bincount(npy[i], minlength=16)\n",
    "        all_count_list.append(count_list)\n",
    "        print(\"{}:{}\\n\".format(npy.shape, count_list))"
   ]
  },
  {
   "cell_type": "code",
   "execution_count": 11,
   "metadata": {},
   "outputs": [],
   "source": [
    "cls_num = np.sum(all_count_list, axis = 0)"
   ]
  },
  {
   "cell_type": "code",
   "execution_count": 12,
   "metadata": {},
   "outputs": [
    {
     "name": "stdout",
     "output_type": "stream",
     "text": [
      "test各类别数量: \n",
      "[441.13251377  15.492129   137.84518241 123.12056358  13.83515606\n",
      "   2.90901253   1.          25.48723557   3.11766584  24.34141454\n",
      "  89.82201644  21.11677177   8.62010058  11.40339267  40.60011974\n",
      "  17.24621218]\n"
     ]
    }
   ],
   "source": [
    "print(\"test各类别数量: \\n{}\".format(cls_num/min(cls_num)))       "
   ]
  },
  {
   "cell_type": "code",
   "execution_count": null,
   "metadata": {},
   "outputs": [],
   "source": []
  },
  {
   "cell_type": "markdown",
   "metadata": {},
   "source": [
    "## 2.5 按五类统计"
   ]
  },
  {
   "cell_type": "markdown",
   "metadata": {},
   "source": [
    "| 名称 | 包含15类别 | 5类别编号 |\n",
    "| -- | -- | -- |\n",
    "|未知类别 | 0 | 0|\n",
    "|耕地 | 1, 2, 3 | 1 |\n",
    "|林地 | 4, 5, 6 | 2 |\n",
    "|草地 | 7, 8 | 3 |\n",
    "|建设用地 | 9, 10, 11, 12 | 4 |\n",
    "|水系 | 13, 14, 15 | 5 |"
   ]
  },
  {
   "cell_type": "code",
   "execution_count": null,
   "metadata": {},
   "outputs": [],
   "source": [
    "all_count_list = []  # 记录全局类别数量\n",
    "filelist = os.listdir('../data/train_1106/')\n",
    "for file in filelist:\n",
    "    if file.split('_')[-1] == 'clsindex.npy':\n",
    "        print('Read... {}'.format(file))\n",
    "        npy = np.load('../data/train_1106/'+file)\n",
    "        shape = npy.shape\n",
    "        count_list = np.zeros((16,))    # 记录单张图的类别数量\n",
    "         \n",
    "            count_list += np.bincount(npy[i], minlength=16)\n",
    "        all_count_list.append(count_list)\n",
    "        print(\"{}:{}\\n\".format(npy.shape, count_list))"
   ]
  }
 ],
 "metadata": {
  "kernelspec": {
   "display_name": "Python 3",
   "language": "python",
   "name": "python3"
  },
  "language_info": {
   "codemirror_mode": {
    "name": "ipython",
    "version": 3
   },
   "file_extension": ".py",
   "mimetype": "text/x-python",
   "name": "python",
   "nbconvert_exporter": "python",
   "pygments_lexer": "ipython3",
   "version": "3.8.0"
  }
 },
 "nbformat": 4,
 "nbformat_minor": 2
}
